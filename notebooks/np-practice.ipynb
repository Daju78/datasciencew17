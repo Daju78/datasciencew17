{
 "cells": [
  {
   "cell_type": "code",
   "execution_count": 1,
   "metadata": {
    "collapsed": true
   },
   "outputs": [],
   "source": [
    "'''\n",
    "Import the numpy package under the name np\n",
    "'''\n",
    "import numpy as np\n"
   ]
  },
  {
   "cell_type": "code",
   "execution_count": 9,
   "metadata": {
    "collapsed": false
   },
   "outputs": [
    {
     "name": "stdout",
     "output_type": "stream",
     "text": [
      "[ 0.  0.  0.  0.  0.  0.  0.  0.  0.  0.]\n"
     ]
    }
   ],
   "source": [
    "'''Create a null vector of size 10 \n",
    "'''\n",
    "a = np.zeros([10])\n",
    "print a"
   ]
  },
  {
   "cell_type": "code",
   "execution_count": 10,
   "metadata": {
    "collapsed": false
   },
   "outputs": [
    {
     "name": "stdout",
     "output_type": "stream",
     "text": [
      "[ 0.  0.  0.  0.  1.  0.  0.  0.  0.  0.]\n"
     ]
    }
   ],
   "source": [
    "'''Create a null vector of size 10 but the fifth value which is 1\n",
    "'''\n",
    "a = np.zeros([10])\n",
    "a[4] = 1\n",
    "print a"
   ]
  },
  {
   "cell_type": "code",
   "execution_count": 15,
   "metadata": {
    "collapsed": false
   },
   "outputs": [
    {
     "name": "stdout",
     "output_type": "stream",
     "text": [
      "[1 2 4]\n"
     ]
    }
   ],
   "source": [
    "'''Find indices of non-zero elements from [1,2,0,0,4,0]\n",
    "'''\n",
    "a = np.array([1,2,0,0,4,0])\n",
    "print a[a >0]"
   ]
  },
  {
   "cell_type": "code",
   "execution_count": 19,
   "metadata": {
    "collapsed": false
   },
   "outputs": [
    {
     "name": "stdout",
     "output_type": "stream",
     "text": [
      "[[ 0.43205262  0.60452146  0.74160699  0.88218108  0.07839502  0.03836493\n",
      "   0.82479819  0.61082974  0.52045643  0.53378047]\n",
      " [ 0.47380408  0.86850953  0.14853175  0.70000008  0.18477355  0.0384567\n",
      "   0.63683925  0.41579134  0.23395784  0.34985309]\n",
      " [ 0.87921732  0.4653765   0.01780509  0.15506918  0.72537658  0.58974299\n",
      "   0.16000485  0.4975352   0.83828424  0.59913148]\n",
      " [ 0.25578282  0.16383037  0.23736624  0.23632195  0.8985761   0.75940538\n",
      "   0.77266745  0.38993181  0.04760279  0.5146151 ]\n",
      " [ 0.12744097  0.33759392  0.07012874  0.54032882  0.97343317  0.00929622\n",
      "   0.49889678  0.6242482   0.10794637  0.02836888]\n",
      " [ 0.83608421  0.0953989   0.53225532  0.65227136  0.31085963  0.37455147\n",
      "   0.01040423  0.27689589  0.59340321  0.60451644]\n",
      " [ 0.40794517  0.51181184  0.17051352  0.95692921  0.29738871  0.29451103\n",
      "   0.11349622  0.16792856  0.98007161  0.07694616]\n",
      " [ 0.2834981   0.79280644  0.90489023  0.51763966  0.32886072  0.50041002\n",
      "   0.07707419  0.35696817  0.90361757  0.87049556]\n",
      " [ 0.43469461  0.66469663  0.36798249  0.84561554  0.9314652   0.3537842\n",
      "   0.32888049  0.95690138  0.14687697  0.73921044]\n",
      " [ 0.21457401  0.63208815  0.71622518  0.0656096   0.99458468  0.71232875\n",
      "   0.6967202   0.80853119  0.81708764  0.70722872]]\n",
      "0.994584683559\n",
      "0.00929622280896\n"
     ]
    }
   ],
   "source": [
    "'''Create a 10x10 array with random values and find the minimum and maximum values\n",
    "'''\n",
    "a = np.random.random([10,10])\n",
    "print a\n",
    "print a.max()\n",
    "print a.min()"
   ]
  },
  {
   "cell_type": "code",
   "execution_count": 47,
   "metadata": {
    "collapsed": false
   },
   "outputs": [
    {
     "name": "stdout",
     "output_type": "stream",
     "text": [
      "[[1 2 2]\n",
      " [5 4 1]\n",
      " [5 7 5]\n",
      " [3 2 0]\n",
      " [7 1 5]]\n",
      "[[3 1]\n",
      " [2 4]\n",
      " [0 0]]\n",
      "[[ 7  9]\n",
      " [23 21]\n",
      " [29 33]\n",
      " [13 11]\n",
      " [23 11]]\n"
     ]
    }
   ],
   "source": [
    "'''\n",
    "Multiply a 5x3 matrix by a 3x2 matrix (real matrix product)\n",
    "'''\n",
    "a = np.random.randint(10, size=(5,3))\n",
    "print a\n",
    "b = np.random.randint(5, size=(3,2))\n",
    "print b\n",
    "\n",
    "print a.dot(b)"
   ]
  },
  {
   "cell_type": "code",
   "execution_count": 52,
   "metadata": {
    "collapsed": false
   },
   "outputs": [
    {
     "name": "stdout",
     "output_type": "stream",
     "text": [
      "[ 7  8 10 36 58 60 60 65 69 77]\n"
     ]
    }
   ],
   "source": [
    "'''\n",
    "Create a random vector of size 10 and sort it\n",
    "\n",
    "'''\n",
    "a = np.random.randint(100, size=(10))\n",
    "print np.sort(a)"
   ]
  },
  {
   "cell_type": "code",
   "execution_count": null,
   "metadata": {
    "collapsed": true
   },
   "outputs": [],
   "source": []
  }
 ],
 "metadata": {
  "kernelspec": {
   "display_name": "Python 2",
   "language": "python",
   "name": "python2"
  },
  "language_info": {
   "codemirror_mode": {
    "name": "ipython",
    "version": 2
   },
   "file_extension": ".py",
   "mimetype": "text/x-python",
   "name": "python",
   "nbconvert_exporter": "python",
   "pygments_lexer": "ipython2",
   "version": "2.7.13"
  }
 },
 "nbformat": 4,
 "nbformat_minor": 0
}
